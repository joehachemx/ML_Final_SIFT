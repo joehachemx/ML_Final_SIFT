{
 "cells": [
  {
   "cell_type": "markdown",
   "metadata": {},
   "source": [
    "### Summarizer Demo"
   ]
  },
  {
   "cell_type": "code",
   "execution_count": 1,
   "metadata": {},
   "outputs": [
    {
     "name": "stderr",
     "output_type": "stream",
     "text": [
      "/Users/joehachem/Desktop/ML_FINAL/.venv/lib/python3.9/site-packages/urllib3/__init__.py:35: NotOpenSSLWarning: urllib3 v2 only supports OpenSSL 1.1.1+, currently the 'ssl' module is compiled with 'LibreSSL 2.8.3'. See: https://github.com/urllib3/urllib3/issues/3020\n",
      "  warnings.warn(\n",
      "/Users/joehachem/Desktop/ML_FINAL/.venv/lib/python3.9/site-packages/tqdm/auto.py:21: TqdmWarning: IProgress not found. Please update jupyter and ipywidgets. See https://ipywidgets.readthedocs.io/en/stable/user_install.html\n",
      "  from .autonotebook import tqdm as notebook_tqdm\n"
     ]
    }
   ],
   "source": [
    "from transformers import pipeline\n",
    "import json\n",
    "from datetime import datetime, timedelta"
   ]
  },
  {
   "cell_type": "markdown",
   "metadata": {},
   "source": [
    "### Prepare the data"
   ]
  },
  {
   "cell_type": "code",
   "execution_count": 2,
   "metadata": {},
   "outputs": [],
   "source": [
    "RAW_DATA = \"./test_data_raw.json\"\n",
    "NORMALIZED_DATA = \"./test_data_nornalized.json\""
   ]
  },
  {
   "cell_type": "markdown",
   "metadata": {},
   "source": [
    "### Run Summarization Model (pick which data)"
   ]
  },
  {
   "cell_type": "code",
   "execution_count": null,
   "metadata": {},
   "outputs": [],
   "source": [
    "# Load the fine-tuned summarization pipeline for chats\n",
    "summarizer = pipeline(\"summarization\", model=\"philschmid/bart-large-cnn-samsum\")\n",
    "\n",
    "# Load new test data\n",
    "with open(RAW_DATA, \"r\", encoding=\"utf-8\") as f:\n",
    "    data = json.load(f)\n",
    "\n",
    "# Convert timestamps to datetime and sort\n",
    "for msg in data:\n",
    "    msg[\"dt\"] = datetime.strptime(msg[\"timestamp\"], \"%d/%m/%Y, %I:%M:%S %p\")\n",
    "data = sorted(data, key=lambda x: x[\"dt\"])\n",
    "\n",
    "# Group messages based on 5-minute time gap\n",
    "grouped = []\n",
    "current_group = []\n",
    "prev_time = None\n",
    "time_gap = timedelta(minutes=5)\n",
    "\n",
    "for msg in data:\n",
    "    if not prev_time or (msg[\"dt\"] - prev_time) <= time_gap:\n",
    "        current_group.append(msg)\n",
    "    else:\n",
    "        grouped.append(current_group)\n",
    "        current_group = [msg]\n",
    "    prev_time = msg[\"dt\"]\n",
    "\n",
    "if current_group:\n",
    "    grouped.append(current_group)\n",
    "\n",
    "# Summarize each group\n",
    "summaries = []\n",
    "\n",
    "for idx, group in enumerate(grouped):\n",
    "    # Extract and deduplicate context lines\n",
    "    context_lines = []\n",
    "    seen = set()\n",
    "    for msg in group:\n",
    "        for line in msg.get(\"context\", []):\n",
    "            if line not in seen:\n",
    "                context_lines.append(line)\n",
    "                seen.add(line)\n",
    "\n",
    "    full_text = \"\\n\".join(context_lines)\n",
    "    full_text = full_text[:1024]  # trim to fit model input\n",
    "\n",
    "    try:\n",
    "        summary = summarizer(full_text, max_length=60, min_length=15, do_sample=False)\n",
    "        summaries.append({\n",
    "            \"group_id\": idx,\n",
    "            \"summary\": summary[0][\"summary_text\"],\n",
    "            \"messages\": [m[\"id\"] for m in group]\n",
    "        })\n",
    "    except Exception as e:\n",
    "        summaries.append({\n",
    "            \"group_id\": idx,\n",
    "            \"summary\": f\"Error: {e}\",\n",
    "            \"messages\": [m[\"id\"] for m in group]\n",
    "        })\n",
    "\n",
    "# Save the generated summaries to a file\n",
    "with open(\"summarized_by_time_test.json\", \"w\", encoding=\"utf-8\") as f:\n",
    "    json.dump(summaries, f, ensure_ascii=False, indent=2)\n",
    "\n",
    "print(\"✅ Summaries using fine-tuned BART (Samsum) saved to summarized_by_time_test.json\")"
   ]
  }
 ],
 "metadata": {
  "kernelspec": {
   "display_name": ".venv",
   "language": "python",
   "name": "python3"
  },
  "language_info": {
   "codemirror_mode": {
    "name": "ipython",
    "version": 3
   },
   "file_extension": ".py",
   "mimetype": "text/x-python",
   "name": "python",
   "nbconvert_exporter": "python",
   "pygments_lexer": "ipython3",
   "version": "3.9.6"
  }
 },
 "nbformat": 4,
 "nbformat_minor": 2
}
