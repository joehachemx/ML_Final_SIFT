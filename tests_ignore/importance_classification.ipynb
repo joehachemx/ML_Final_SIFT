{
 "cells": [
  {
   "cell_type": "markdown",
   "metadata": {},
   "source": [
    "### Importance Classification Model"
   ]
  },
  {
   "cell_type": "code",
   "execution_count": 1,
   "metadata": {},
   "outputs": [
    {
     "name": "stderr",
     "output_type": "stream",
     "text": [
      "/Users/joehachem/Desktop/ML_FINAL/.venv/lib/python3.9/site-packages/urllib3/__init__.py:35: NotOpenSSLWarning: urllib3 v2 only supports OpenSSL 1.1.1+, currently the 'ssl' module is compiled with 'LibreSSL 2.8.3'. See: https://github.com/urllib3/urllib3/issues/3020\n",
      "  warnings.warn(\n",
      "/Users/joehachem/Desktop/ML_FINAL/.venv/lib/python3.9/site-packages/tqdm/auto.py:21: TqdmWarning: IProgress not found. Please update jupyter and ipywidgets. See https://ipywidgets.readthedocs.io/en/stable/user_install.html\n",
      "  from .autonotebook import tqdm as notebook_tqdm\n"
     ]
    }
   ],
   "source": [
    "from transformers import pipeline\n",
    "import json\n",
    "from datetime import datetime, timedelta"
   ]
  },
  {
   "cell_type": "code",
   "execution_count": null,
   "metadata": {},
   "outputs": [],
   "source": [
    "# Load a pretrained classification pipeline\n",
    "classifier = pipeline(\"sentiment-analysis\", model=\"distilbert-base-uncased-finetuned-sst-2-english\")\n",
    "\n",
    "# Load summarized group data\n",
    "with open(\"summarized_by_time_test.json\", \"r\", encoding=\"utf-8\") as f:\n",
    "    groups = json.load(f)\n",
    "\n",
    "# Classify each summary\n",
    "classified = []\n",
    "\n",
    "for group in groups:\n",
    "    summary_text = group[\"summary\"][:512]  # truncate for BERT\n",
    "    result = classifier(summary_text)[0]\n",
    "    importance = \"important\" if result[\"label\"] == \"POSITIVE\" else \"not_important\"\n",
    "\n",
    "    classified.append({\n",
    "        \"group_id\": group[\"group_id\"],\n",
    "        \"summary\": summary_text,\n",
    "        \"importance\": importance,\n",
    "        \"score\": round(result[\"score\"], 4),\n",
    "        \"messages\": group[\"messages\"]\n",
    "    })\n",
    "\n",
    "# Save output\n",
    "with open(\"group_importance_classification.json\", \"w\", encoding=\"utf-8\") as f:\n",
    "    json.dump(classified, f, ensure_ascii=False, indent=2)\n",
    "\n",
    "print(\"✅ Group summary importance classification saved to group_importance_classification.json\")\n"
   ]
  }
 ],
 "metadata": {
  "kernelspec": {
   "display_name": ".venv",
   "language": "python",
   "name": "python3"
  },
  "language_info": {
   "codemirror_mode": {
    "name": "ipython",
    "version": 3
   },
   "file_extension": ".py",
   "mimetype": "text/x-python",
   "name": "python",
   "nbconvert_exporter": "python",
   "pygments_lexer": "ipython3",
   "version": "3.9.6"
  }
 },
 "nbformat": 4,
 "nbformat_minor": 2
}
