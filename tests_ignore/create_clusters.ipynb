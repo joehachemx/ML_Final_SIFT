{
 "cells": [
  {
   "cell_type": "code",
   "execution_count": 4,
   "metadata": {},
   "outputs": [],
   "source": [
    "import os\n",
    "import re\n",
    "\n",
    "def extract_text_from_chats():\n",
    "    # Create output directory if it doesn't exist\n",
    "    os.makedirs('../data/only_text_chats', exist_ok=True)\n",
    "    \n",
    "    # Get all chat files\n",
    "    chat_files = [f for f in os.listdir('../data/processed_chats') if f.endswith('.txt')]\n",
    "    \n",
    "    for chat_file in chat_files:\n",
    "        input_path = os.path.join('../data/processed_chats', chat_file)\n",
    "        output_path = os.path.join('../data/only_text_chats', chat_file)\n",
    "        \n",
    "        with open(input_path, 'r', encoding='utf-8') as f:\n",
    "            lines = f.readlines()\n",
    "            \n",
    "        # Extract only the text part after the timestamp and speaker\n",
    "        text_lines = []\n",
    "        for line in lines:\n",
    "            # Match pattern: [timestamp] speaker: text\n",
    "            match = re.match(r'^\\[.*?\\]\\s+.*?:\\s+(.+)$', line)\n",
    "            if match:\n",
    "                text = match.group(1).strip()\n",
    "                if text:  # Only add non-empty messages\n",
    "                    text_lines.append(text + '\\n')\n",
    "        \n",
    "        # Write only the text to new file\n",
    "        with open(output_path, 'w', encoding='utf-8') as f:\n",
    "            f.writelines(text_lines)\n",
    "            \n",
    "        print(f\"Processed {chat_file}\")"
   ]
  },
  {
   "cell_type": "code",
   "execution_count": 5,
   "metadata": {},
   "outputs": [
    {
     "name": "stdout",
     "output_type": "stream",
     "text": [
      "Processed chat_1.txt\n",
      "Processed chat_2.txt\n",
      "Processed chat_3.txt\n",
      "Processed chat_6.txt\n",
      "Processed chat_4.txt\n"
     ]
    }
   ],
   "source": [
    "extract_text_from_chats()"
   ]
  },
  {
   "cell_type": "code",
   "execution_count": 7,
   "metadata": {
    "vscode": {
     "languageId": "shellscript"
    }
   },
   "outputs": [
    {
     "name": "stdout",
     "output_type": "stream",
     "text": [
      "Collecting python-Levenshtein\n",
      "  Downloading python_levenshtein-0.27.1-py3-none-any.whl.metadata (3.7 kB)\n",
      "Requirement already satisfied: Levenshtein==0.27.1 in /Users/joehachem/Desktop/ML_FINAL/.venv/lib/python3.9/site-packages (from python-Levenshtein) (0.27.1)\n",
      "Requirement already satisfied: rapidfuzz<4.0.0,>=3.9.0 in /Users/joehachem/Desktop/ML_FINAL/.venv/lib/python3.9/site-packages (from Levenshtein==0.27.1->python-Levenshtein) (3.13.0)\n",
      "Downloading python_levenshtein-0.27.1-py3-none-any.whl (9.4 kB)\n",
      "Installing collected packages: python-Levenshtein\n",
      "Successfully installed python-Levenshtein-0.27.1\n",
      "Note: you may need to restart the kernel to use updated packages.\n"
     ]
    }
   ],
   "source": [
    "pip install python-Levenshtein"
   ]
  },
  {
   "cell_type": "code",
   "execution_count": 8,
   "metadata": {},
   "outputs": [],
   "source": [
    "import os\n",
    "import re\n",
    "from collections import defaultdict\n",
    "from Levenshtein import distance\n",
    "from typing import Dict, Set\n",
    "\n",
    "def cluster_similar_words(threshold: float = 0.8) -> Dict[str, Set[str]]:\n",
    "    \"\"\"\n",
    "    Cluster words based on similarity using Levenshtein distance.\n",
    "    \n",
    "    Args:\n",
    "        threshold: Minimum similarity ratio (0-1) for words to be considered similar\n",
    "    \n",
    "    Returns:\n",
    "        Dictionary mapping each word to its cluster of similar words\n",
    "    \"\"\"\n",
    "    # Get all words from files\n",
    "    words = set()\n",
    "    chat_dir = '../data/only_text_chats'\n",
    "    \n",
    "    for filename in os.listdir(chat_dir):\n",
    "        if filename.endswith('.txt'):\n",
    "            with open(os.path.join(chat_dir, filename), 'r', encoding='utf-8') as f:\n",
    "                text = f.read().lower()\n",
    "                # Extract words, keeping only alphanumeric characters\n",
    "                file_words = re.findall(r'\\b\\w+\\b', text)\n",
    "                words.update(file_words)\n",
    "    \n",
    "    # Convert to list for easier indexing\n",
    "    words = list(words)\n",
    "    clusters = defaultdict(set)\n",
    "    \n",
    "    # Compare each word with every other word\n",
    "    for i, word1 in enumerate(words):\n",
    "        if word1 in clusters:  # Skip if already clustered\n",
    "            continue\n",
    "            \n",
    "        clusters[word1].add(word1)  # Add word to its own cluster\n",
    "        \n",
    "        for word2 in words[i+1:]:\n",
    "            if word2 in clusters:  # Skip if already clustered\n",
    "                continue\n",
    "                \n",
    "            # Calculate similarity ratio\n",
    "            max_len = max(len(word1), len(word2))\n",
    "            if max_len == 0:\n",
    "                continue\n",
    "                \n",
    "            similarity = 1 - (distance(word1, word2) / max_len)\n",
    "            \n",
    "            if similarity >= threshold:\n",
    "                clusters[word1].add(word2)\n",
    "                clusters[word2].add(word1)\n",
    "    \n",
    "    return clusters"
   ]
  },
  {
   "cell_type": "code",
   "execution_count": 9,
   "metadata": {},
   "outputs": [],
   "source": [
    "def print_clusters(clusters: Dict[str, Set[str]], min_cluster_size: int = 2):\n",
    "    \"\"\"Print clusters with at least min_cluster_size words\"\"\"\n",
    "    for word, cluster in clusters.items():\n",
    "        if len(cluster) >= min_cluster_size:\n",
    "            print(f\"Cluster for '{word}': {sorted(cluster)}\")"
   ]
  },
  {
   "cell_type": "code",
   "execution_count": null,
   "metadata": {},
   "outputs": [],
   "source": [
    "import json\n",
    "\n",
    "clusters = cluster_similar_words(threshold=0.8)\n",
    "with open('normal_clusters.json', 'w', encoding='utf-8') as f:\n",
    "    json.dump({k: sorted(list(v)) for k, v in clusters.items() if len(v) >= 2}, f, ensure_ascii=False, indent=2)"
   ]
  }
 ],
 "metadata": {
  "kernelspec": {
   "display_name": ".venv",
   "language": "python",
   "name": "python3"
  },
  "language_info": {
   "codemirror_mode": {
    "name": "ipython",
    "version": 3
   },
   "file_extension": ".py",
   "mimetype": "text/x-python",
   "name": "python",
   "nbconvert_exporter": "python",
   "pygments_lexer": "ipython3",
   "version": "3.9.6"
  }
 },
 "nbformat": 4,
 "nbformat_minor": 2
}
