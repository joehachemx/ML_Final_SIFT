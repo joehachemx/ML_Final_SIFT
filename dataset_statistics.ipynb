{
 "cells": [
  {
   "cell_type": "markdown",
   "metadata": {},
   "source": [
    "### Dataset Statistics"
   ]
  },
  {
   "cell_type": "code",
   "execution_count": 12,
   "metadata": {},
   "outputs": [],
   "source": [
    "import os\n",
    "from pathlib import Path\n",
    "import datetime"
   ]
  },
  {
   "cell_type": "code",
   "execution_count": 15,
   "metadata": {},
   "outputs": [],
   "source": [
    "raw_chats_dir = Path(\"data/processed_chats\")"
   ]
  },
  {
   "cell_type": "code",
   "execution_count": 16,
   "metadata": {},
   "outputs": [
    {
     "name": "stdout",
     "output_type": "stream",
     "text": [
      "Total messages across all files: 86237\n"
     ]
    }
   ],
   "source": [
    "total_messages = 0\n",
    "\n",
    "for file in raw_chats_dir.glob(\"*.txt\"):\n",
    "    with open(file, \"r\", encoding=\"utf-8\") as f:\n",
    "        total_messages += len(f.readlines())\n",
    "\n",
    "print(f\"Total messages across all files: {total_messages}\")\n"
   ]
  },
  {
   "cell_type": "code",
   "execution_count": 9,
   "metadata": {},
   "outputs": [
    {
     "name": "stdout",
     "output_type": "stream",
     "text": [
      "Total unique participants: 253\n"
     ]
    }
   ],
   "source": [
    "unique_speakers = set()\n",
    "\n",
    "for file in raw_chats_dir.glob(\"*.txt\"):\n",
    "    with open(file, \"r\", encoding=\"utf-8\") as f:\n",
    "        for line in f:\n",
    "            if \":\" in line:\n",
    "                speaker = line.split(\"]\")[1].split(\":\")[0].strip()\n",
    "                unique_speakers.add(speaker)\n",
    "\n",
    "print(f\"Total unique participants: {len(unique_speakers)}\")\n"
   ]
  },
  {
   "cell_type": "code",
   "execution_count": 8,
   "metadata": {},
   "outputs": [
    {
     "name": "stdout",
     "output_type": "stream",
     "text": [
      "Average message length: 7.76 words\n"
     ]
    }
   ],
   "source": [
    "total_words = 0\n",
    "total_messages = 0\n",
    "\n",
    "for file in raw_chats_dir.glob(\"*.txt\"):\n",
    "    with open(file, \"r\", encoding=\"utf-8\") as f:\n",
    "        for line in f:\n",
    "            if \":\" in line:\n",
    "                message = line.split(\":\", 1)[1].strip()\n",
    "                total_words += len(message.split())\n",
    "                total_messages += 1\n",
    "\n",
    "avg_length = total_words / total_messages if total_messages > 0 else 0\n",
    "print(f\"Average message length: {avg_length:.2f} words\")\n"
   ]
  },
  {
   "cell_type": "code",
   "execution_count": 10,
   "metadata": {},
   "outputs": [
    {
     "name": "stdout",
     "output_type": "stream",
     "text": [
      "Code-switched messages: 85994 (99.72%)\n"
     ]
    }
   ],
   "source": [
    "import re\n",
    "from langdetect import detect, LangDetectException\n",
    "\n",
    "code_switched_messages = 0\n",
    "total_messages = 0\n",
    "\n",
    "for file in raw_chats_dir.glob(\"*.txt\"):\n",
    "    with open(file, \"r\", encoding=\"utf-8\") as f:\n",
    "        for line in f:\n",
    "            if \":\" in line:\n",
    "                message = line.split(\":\", 1)[1].strip()\n",
    "                if message:  # Skip empty messages\n",
    "                    total_messages += 1\n",
    "                    try:\n",
    "                        # Split message into words and detect language for each\n",
    "                        words = re.findall(r'\\w+', message)\n",
    "                        languages = set()\n",
    "                        for word in words:\n",
    "                            try:\n",
    "                                lang = detect(word)\n",
    "                                languages.add(lang)\n",
    "                            except LangDetectException:\n",
    "                                continue\n",
    "                        if len(languages) > 1:\n",
    "                            code_switched_messages += 1\n",
    "                    except LangDetectException:\n",
    "                        continue\n",
    "\n",
    "percentage = (code_switched_messages / total_messages * 100) if total_messages > 0 else 0\n",
    "print(f\"Code-switched messages: {code_switched_messages} ({percentage:.2f}%)\")\n"
   ]
  },
  {
   "cell_type": "code",
   "execution_count": 14,
   "metadata": {},
   "outputs": [
    {
     "name": "stdout",
     "output_type": "stream",
     "text": [
      "Average messages per conversation thread (1 conversation ~ 30 mins): 26.38\n"
     ]
    }
   ],
   "source": [
    "thread_lengths = []\n",
    "current_thread = []\n",
    "last_timestamp = None\n",
    "\n",
    "for file in raw_chats_dir.glob(\"*.txt\"):\n",
    "    with open(file, \"r\", encoding=\"utf-8\") as f:\n",
    "        for line in f:\n",
    "            if \":\" in line:\n",
    "                try:\n",
    "                    # Extract timestamp from line\n",
    "                    timestamp_str = line.split(\"]\")[0].strip(\"[\")\n",
    "                    timestamp = datetime.datetime.strptime(timestamp_str, \"%m/%d/%Y, %I:%M:%S %p\")\n",
    "                    \n",
    "                    if last_timestamp is None:\n",
    "                        last_timestamp = timestamp\n",
    "                        current_thread.append(line)\n",
    "                    else:\n",
    "                        time_diff = (timestamp - last_timestamp).total_seconds() / 60\n",
    "                        if time_diff <= 30:\n",
    "                            current_thread.append(line)\n",
    "                        else:\n",
    "                            if current_thread:\n",
    "                                thread_lengths.append(len(current_thread))\n",
    "                            current_thread = [line]\n",
    "                        last_timestamp = timestamp\n",
    "                except (ValueError, IndexError):\n",
    "                    continue\n",
    "            else:\n",
    "                if current_thread:\n",
    "                    thread_lengths.append(len(current_thread))\n",
    "                    current_thread = []\n",
    "                    last_timestamp = None\n",
    "        if current_thread:\n",
    "            thread_lengths.append(len(current_thread))\n",
    "            current_thread = []\n",
    "            last_timestamp = None\n",
    "\n",
    "avg_thread_length = sum(thread_lengths) / len(thread_lengths) if thread_lengths else 0\n",
    "print(f\"Average messages per conversation thread (1 conversation ~ 30 mins): {avg_thread_length:.2f}\")"
   ]
  }
 ],
 "metadata": {
  "kernelspec": {
   "display_name": ".venv",
   "language": "python",
   "name": "python3"
  },
  "language_info": {
   "codemirror_mode": {
    "name": "ipython",
    "version": 3
   },
   "file_extension": ".py",
   "mimetype": "text/x-python",
   "name": "python",
   "nbconvert_exporter": "python",
   "pygments_lexer": "ipython3",
   "version": "3.9.6"
  }
 },
 "nbformat": 4,
 "nbformat_minor": 2
}
