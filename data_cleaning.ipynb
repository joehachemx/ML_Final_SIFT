{
 "cells": [
  {
   "cell_type": "markdown",
   "metadata": {},
   "source": [
    "### Remove everything irrelevant"
   ]
  },
  {
   "cell_type": "code",
   "execution_count": 38,
   "metadata": {},
   "outputs": [],
   "source": [
    "import re\n",
    "import os"
   ]
  },
  {
   "cell_type": "code",
   "execution_count": 43,
   "metadata": {},
   "outputs": [],
   "source": [
    "# Regex to match emojis\n",
    "emoji_pattern = re.compile(\n",
    "    \"[\"\n",
    "    \"\\U0001F600-\\U0001F64F\"  # Emoticons\n",
    "    \"\\U0001F300-\\U0001F5FF\"  # Symbols & pictographs\n",
    "    \"\\U0001F680-\\U0001F6FF\"  # Transport & map symbols\n",
    "    \"\\U0001F1E0-\\U0001F1FF\"  # Flags\n",
    "    \"\\U00002700-\\U000027BF\"  # Dingbats\n",
    "    \"\\U0001F900-\\U0001F9FF\"  # Supplemental Symbols and Pictographs\n",
    "    \"\\U0001FA70-\\U0001FAFF\"  # Extended symbols\n",
    "    \"\\U00002600-\\U000026FF\"  # Misc symbols\n",
    "    \"\\U00002B50-\\U00002B55\"\n",
    "    \"]+\",\n",
    "    flags=re.UNICODE\n",
    ")\n",
    "\n",
    "def is_media_or_system_message(message):\n",
    "    unwanted_keywords = [\n",
    "        \"audio omitted\",\n",
    "        \"sticker omitted\",\n",
    "        \"image omitted\",\n",
    "        \"video omitted\",\n",
    "        \"document omitted\",\n",
    "        \"This message was deleted\",\n",
    "        \"You deleted this message\",\n",
    "        \"You created group\",\n",
    "        \"Messages and calls are end-to-end encrypted\",\n",
    "        \"<This message was edited>\",\n",
    "        \"changed their phone number to a new number\"\n",
    "    ]\n",
    "    message_clean = message.replace('\\u200e', '')\n",
    "\n",
    "    # Remove system messages and media omissions\n",
    "    if any(kw.lower() in message_clean.lower() for kw in unwanted_keywords):\n",
    "        return True\n",
    "\n",
    "    # Remove messages containing tags like @961XXXXXXXX\n",
    "    if re.search(r'@\\d', message_clean):\n",
    "        return True\n",
    "\n",
    "    # Remove messages containing emojis\n",
    "    if emoji_pattern.search(message_clean):\n",
    "        return True\n",
    "\n",
    "    return False\n",
    "\n",
    "def clean_whatsapp_chat(input_file, output_file):\n",
    "    with open(input_file, 'r', encoding='utf-8') as f:\n",
    "        lines = f.readlines()\n",
    "\n",
    "    cleaned_lines = []\n",
    "    for line in lines:\n",
    "        # Skip empty lines\n",
    "        if not line.strip():\n",
    "            continue\n",
    "            \n",
    "        # Extract timestamp and message\n",
    "        match = re.match(r'\\[(.*?)\\] (.*?): (.*)', line)\n",
    "        if not match:\n",
    "            continue\n",
    "            \n",
    "        timestamp, sender, message = match.groups()\n",
    "        message = message.strip()\n",
    "\n",
    "        # Skip media and system messages\n",
    "        if is_media_or_system_message(message):\n",
    "            continue\n",
    "        \n",
    "        cleaned_lines.append(f\"[{timestamp}] {sender}: {message}\\n\")\n",
    "\n",
    "    with open(output_file, 'w', encoding='utf-8') as f:\n",
    "        f.writelines(cleaned_lines)"
   ]
  },
  {
   "cell_type": "code",
   "execution_count": 44,
   "metadata": {},
   "outputs": [],
   "source": [
    "def process_all_chats():\n",
    "    raw_chats_dir = './data/raw_chats'\n",
    "    processed_chats_dir = './data/processed_chats'\n",
    "    \n",
    "    # Create processed_chats directory if it doesn't exist\n",
    "    if not os.path.exists(processed_chats_dir):\n",
    "        os.makedirs(processed_chats_dir)\n",
    "    \n",
    "    # Process each chat file\n",
    "    for filename in os.listdir(raw_chats_dir):\n",
    "        if filename.endswith('.txt'):\n",
    "            input_path = os.path.join(raw_chats_dir, filename)\n",
    "            output_path = os.path.join(processed_chats_dir, filename)\n",
    "            clean_whatsapp_chat(input_path, output_path)\n",
    "            print(f\"Processed {filename}\")"
   ]
  },
  {
   "cell_type": "code",
   "execution_count": 45,
   "metadata": {},
   "outputs": [
    {
     "name": "stdout",
     "output_type": "stream",
     "text": [
      "Processed chat_1.txt\n",
      "Processed chat_2.txt\n",
      "Processed chat_3.txt\n",
      "Processed chat_6.txt\n",
      "Processed chat_4.txt\n",
      "Processed chat_5.txt\n"
     ]
    }
   ],
   "source": [
    "process_all_chats()"
   ]
  }
 ],
 "metadata": {
  "kernelspec": {
   "display_name": "Python 3",
   "language": "python",
   "name": "python3"
  },
  "language_info": {
   "codemirror_mode": {
    "name": "ipython",
    "version": 3
   },
   "file_extension": ".py",
   "mimetype": "text/x-python",
   "name": "python",
   "nbconvert_exporter": "python",
   "pygments_lexer": "ipython3",
   "version": "3.9.6"
  }
 },
 "nbformat": 4,
 "nbformat_minor": 2
}
