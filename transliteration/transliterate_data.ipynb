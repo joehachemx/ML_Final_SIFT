{
 "cells": [
  {
   "cell_type": "markdown",
   "metadata": {},
   "source": [
    "### Transliterate Data"
   ]
  },
  {
   "cell_type": "code",
   "execution_count": 1,
   "metadata": {},
   "outputs": [],
   "source": [
    "import json\n",
    "from langdetect import detect\n",
    "from googletrans import Translator\n",
    "import re"
   ]
  },
  {
   "cell_type": "code",
   "execution_count": 5,
   "metadata": {},
   "outputs": [],
   "source": [
    "def is_french_or_english(text):\n",
    "    try:\n",
    "        lang = detect(text)\n",
    "        return lang in ['fr', 'en']\n",
    "    except:\n",
    "        return False\n",
    "\n",
    "def transliterate_text(text):\n",
    "    translator = Translator()\n",
    "    words = text.split()\n",
    "    result = []\n",
    "    \n",
    "    for word in words:\n",
    "        # Clean word of punctuation\n",
    "        clean_word = re.sub(r'[^\\w\\s]', '', word)\n",
    "        \n",
    "        if not clean_word:  # Skip if word is just punctuation\n",
    "            result.append(word)\n",
    "            continue\n",
    "            \n",
    "        if is_french_or_english(clean_word):\n",
    "            result.append(word)\n",
    "        else:\n",
    "            try:\n",
    "                translated = translator.translate(clean_word, dest='en').text\n",
    "                # Preserve original punctuation\n",
    "                if word[-1] in '.,!?;:':\n",
    "                    translated += word[-1]\n",
    "                result.append(translated)\n",
    "            except:\n",
    "                result.append(word)  # Keep original if translation fails\n",
    "    \n",
    "    return ' '.join(result)\n",
    "\n",
    "def process_corpus(input_file='../data/structured_corpus.json', output_file='../data/transliterated_corpus.json'):\n",
    "    with open(input_file, 'r', encoding='utf-8') as f:\n",
    "        data = json.load(f)\n",
    "    \n",
    "    for message in data['messages']:\n",
    "        message['text'] = transliterate_text(message['text'])\n",
    "        # Also process context if needed\n",
    "        message['context'] = [transliterate_text(ctx) for ctx in message['context']]\n",
    "    \n",
    "    with open(output_file, 'w', encoding='utf-8') as f:\n",
    "        json.dump(data, f, ensure_ascii=False, indent=2)\n",
    "    \n",
    "    return data"
   ]
  },
  {
   "cell_type": "code",
   "execution_count": null,
   "metadata": {},
   "outputs": [
    {
     "name": "stderr",
     "output_type": "stream",
     "text": [
      "/var/folders/_r/5pmyddbd7s589k4tt51t4xd00000gn/T/ipykernel_60045/2596664050.py:25: RuntimeWarning: coroutine 'Translator.translate' was never awaited\n",
      "  translated = translator.translate(clean_word, dest='en').text\n",
      "RuntimeWarning: Enable tracemalloc to get the object allocation traceback\n"
     ]
    }
   ],
   "source": [
    "processed_data = process_corpus()"
   ]
  }
 ],
 "metadata": {
  "kernelspec": {
   "display_name": ".venv",
   "language": "python",
   "name": "python3"
  },
  "language_info": {
   "codemirror_mode": {
    "name": "ipython",
    "version": 3
   },
   "file_extension": ".py",
   "mimetype": "text/x-python",
   "name": "python",
   "nbconvert_exporter": "python",
   "pygments_lexer": "ipython3",
   "version": "3.9.6"
  }
 },
 "nbformat": 4,
 "nbformat_minor": 2
}
